{
 "cells": [
  {
   "cell_type": "code",
   "execution_count": 3,
   "id": "f41e48db-e226-458c-8a6f-e1659ae555cb",
   "metadata": {},
   "outputs": [],
   "source": [
    "import pandas as pd\n",
    "import re\n",
    "import numpy as np\n",
    "import math"
   ]
  },
  {
   "cell_type": "code",
   "execution_count": 52,
   "id": "bab9f330-efd3-428b-a518-da66e8751821",
   "metadata": {},
   "outputs": [
    {
     "name": "stdout",
     "output_type": "stream",
     "text": [
      "nodes: ['1', '10', '11', '12', '13', '14', '15', '16', '2', '3', '4', '5', '6', '7', '8', '9']\n",
      "edges: [('1', '10', '1'), ('1', '11', '5'), ('1', '12', '1'), ('1', '13', '1'), ('1', '14', '0'), ('1', '15', '4'), ('1', '16', '1'), ('1', '2', '1'), ('1', '3', '1'), ('1', '4', '0'), ('1', '5', '2'), ('1', '6', '5'), ('1', '7', '4'), ('1', '8', '1'), ('1', '9', '0'), ('10', '1', '1'), ('10', '11', '0'), ('10', '12', '1'), ('10', '13', '0'), ('10', '14', '1'), ('10', '15', '3'), ('10', '16', '\"-1\"'), ('10', '2', '0'), ('10', '3', '0'), ('10', '4', '\"-3\"'), ('10', '5', '\"-1\"'), ('10', '6', '0'), ('10', '7', '1'), ('10', '8', '0'), ('10', '9', '\"-1\"'), ('11', '1', '\"-2\"'), ('11', '10', '3'), ('11', '12', '2'), ('11', '13', '2'), ('11', '14', '2'), ('11', '15', '\"-1\"'), ('11', '16', '1'), ('11', '2', '1'), ('11', '3', '2'), ('11', '4', '1'), ('11', '5', '\"-1\"'), ('11', '6', '\"-1\"'), ('11', '7', '0'), ('11', '8', '1'), ('11', '9', '1'), ('12', '1', '\"-3\"'), ('12', '10', '1'), ('12', '11', '\"-3\"'), ('12', '13', '\"-1\"'), ('12', '14', '1'), ('12', '15', '0'), ('12', '16', '3'), ('12', '2', '\"-1\"'), ('12', '3', '\"-2\"'), ('12', '4', '0'), ('12', '5', '\"-1\"'), ('12', '6', '\"-4\"'), ('12', '7', '\"-1\"'), ('12', '8', '\"-1\"'), ('12', '9', '1'), ('13', '1', '1'), ('13', '10', '0'), ('13', '11', '0'), ('13', '12', '0'), ('13', '14', '2'), ('13', '15', '0'), ('13', '16', '2'), ('13', '2', '1'), ('13', '3', '\"-1\"'), ('13', '4', '0'), ('13', '5', '\"-1\"'), ('13', '6', '\"-2\"'), ('13', '7', '0'), ('13', '8', '\"-1\"'), ('13', '9', '\"-1\"'), ('14', '1', '\"-1\"'), ('14', '10', '1'), ('14', '11', '1'), ('14', '12', '1'), ('14', '13', '3'), ('14', '15', '0'), ('14', '16', '1'), ('14', '2', '0'), ('14', '3', '2'), ('14', '4', '\"-3\"'), ('14', '5', '3'), ('14', '6', '\"-2\"'), ('14', '7', '\"-1\"'), ('14', '8', '0'), ('14', '9', '0'), ('15', '1', '\"-1\"'), ('15', '10', '\"-2\"'), ('15', '11', '\"-1\"'), ('15', '12', '\"-2\"'), ('15', '13', '1'), ('15', '14', '1'), ('15', '16', '\"-1\"'), ('15', '2', '\"-2\"'), ('15', '3', '0'), ('15', '4', '\"-4\"'), ('15', '5', '\"-4\"'), ('15', '6', '\"-1\"'), ('15', '7', '3'), ('15', '8', '0'), ('15', '9', '0'), ('16', '1', '\"-3\"'), ('16', '10', '0'), ('16', '11', '\"-2\"'), ('16', '12', '\"-3\"'), ('16', '13', '\"-2\"'), ('16', '14', '2'), ('16', '15', '0'), ('16', '2', '0'), ('16', '3', '1'), ('16', '4', '\"-1\"'), ('16', '5', '1'), ('16', '6', '\"-2\"'), ('16', '7', '1'), ('16', '8', '0'), ('16', '9', '0'), ('2', '1', '0'), ('2', '10', '1'), ('2', '11', '2'), ('2', '12', '7'), ('2', '13', '3'), ('2', '14', '2'), ('2', '15', '\"-1\"'), ('2', '16', '4'), ('2', '3', '0'), ('2', '4', '2'), ('2', '5', '0'), ('2', '6', '2'), ('2', '7', '4'), ('2', '8', '1'), ('2', '9', '0'), ('3', '1', '2'), ('3', '10', '3'), ('3', '11', '3'), ('3', '12', '2'), ('3', '13', '2'), ('3', '14', '1'), ('3', '15', '2'), ('3', '16', '\"-1\"'), ('3', '2', '\"-1\"'), ('3', '4', '1'), ('3', '5', '0'), ('3', '6', '3'), ('3', '7', '3'), ('3', '8', '1'), ('3', '9', '1'), ('4', '1', '1'), ('4', '10', '\"-1\"'), ('4', '11', '1'), ('4', '12', '1'), ('4', '13', '0'), ('4', '14', '1'), ('4', '15', '1'), ('4', '16', '2'), ('4', '2', '\"-2\"'), ('4', '3', '2'), ('4', '5', '1'), ('4', '6', '1'), ('4', '7', '3'), ('4', '8', '0'), ('4', '9', '0'), ('5', '1', '1'), ('5', '10', '0'), ('5', '11', '2'), ('5', '12', '1'), ('5', '13', '1'), ('5', '14', '0'), ('5', '15', '5'), ('5', '16', '\"-2\"'), ('5', '2', '\"-3\"'), ('5', '3', '1'), ('5', '4', '6'), ('5', '6', '0'), ('5', '7', '0'), ('5', '8', '\"-1\"'), ('5', '9', '2'), ('6', '1', '0'), ('6', '10', '2'), ('6', '11', '0'), ('6', '12', '1'), ('6', '13', '0'), ('6', '14', '3'), ('6', '15', '0'), ('6', '16', '3'), ('6', '2', '1'), ('6', '3', '0'), ('6', '4', '1'), ('6', '5', '0'), ('6', '7', '1'), ('6', '8', '0'), ('6', '9', '1'), ('7', '1', '1'), ('7', '10', '1'), ('7', '11', '\"-2\"'), ('7', '12', '\"-2\"'), ('7', '13', '\"-1\"'), ('7', '14', '\"-1\"'), ('7', '15', '3'), ('7', '16', '0'), ('7', '2', '\"-2\"'), ('7', '3', '0'), ('7', '4', '3'), ('7', '5', '\"-2\"'), ('7', '6', '\"-1\"'), ('7', '8', '1'), ('7', '9', '0'), ('8', '1', '1'), ('8', '10', '1'), ('8', '11', '0'), ('8', '12', '2'), ('8', '13', '1'), ('8', '14', '1'), ('8', '15', '1'), ('8', '16', '1'), ('8', '2', '\"-2\"'), ('8', '3', '0'), ('8', '4', '1'), ('8', '5', '1'), ('8', '6', '1'), ('8', '7', '0'), ('9', '1', '\"-3\"'), ('9', '10', '0'), ('9', '11', '0'), ('9', '12', '1'), ('9', '13', '5'), ('9', '14', '2'), ('9', '15', '2'), ('9', '16', '3'), ('9', '2', '\"-1\"'), ('9', '3', '0'), ('9', '4', '2'), ('9', '5', '0'), ('9', '6', '3'), ('9', '7', '\"-3\"'), ('9', '8', '0')]\n"
     ]
    }
   ],
   "source": [
    "\n",
    "f = open('../data/LeagueNetwork.dot', 'r')\n",
    "x = f.read()\n",
    "regex = r'[^ ]*[\\d+];'\n",
    "data = pd.Series(x.split(\"\\n\"))\n",
    "nodes = filter(lambda data: re.match(regex,data),data)\n",
    "\n",
    "nodes = [node.split(';')[0] for node in nodes] # changing the values to int : [int(node.split(';')[0]) for node in nodes]\n",
    "filter_value = ''\n",
    "if '--' in data[len(nodes)+1]:\n",
    "    filter_value = ' -- '\n",
    "else:\n",
    "    filter_value = ' -> '\n",
    "edges_list = list(filter(lambda data: filter_value in data,data))\n",
    "edges = []\n",
    "\n",
    "for edge in edges_list:\n",
    "    x, y = edge.split(filter_value)\n",
    "    # x = int(x) change the value to int\n",
    "    if '[' in y:\n",
    "        y,z = y.split('  ')#change the value to int: int(y.split(';')[0])\n",
    "        z = z.split('=')[1]\n",
    "        z = z[0:-2]\n",
    "    else:\n",
    "        y=y.split(';')[0]\n",
    "        z=None\n",
    "    edges.append((x,y,z))\n",
    "nodes.sort()\n",
    "edges.sort()\n",
    "print(\"nodes:\",nodes)\n",
    "print(\"edges:\",edges)\n"
   ]
  },
  {
   "cell_type": "code",
   "execution_count": 5,
   "id": "be8efa49-63e4-49c3-8129-f12cbe708dd9",
   "metadata": {},
   "outputs": [],
   "source": [
    "class Graph:\n",
    "    def __init__(self):\n",
    "        self.vertices = {}\n",
    "    \n",
    "    def add_vertex(self, vertex):\n",
    "        if vertex not in self.vertices:\n",
    "            self.vertices[vertex] = []\n",
    "    \n",
    "    def add_edge(self, source, target):\n",
    "        if source in self.vertices and target in self.vertices:\n",
    "            self.vertices[source].append(target)\n",
    "            # self.vertices[target].append(source)  # Uncomment this line if you're working with an undirected graph\n",
    "    def visualize(self):\n",
    "        root = tk.Tk()\n",
    "        canvas = tk.Canvas(root, width=400, height=400, bg=\"white\")\n",
    "        canvas.pack()\n",
    "\n",
    "        num_vertices = len(self.vertices)\n",
    "        radius = min(canvas.winfo_width(), canvas.winfo_height()) / 3\n",
    "        center_x = canvas.winfo_width() / 2\n",
    "        center_y = canvas.winfo_height() / 2\n",
    "\n",
    "        # Calculate positions for vertices\n",
    "        positions = {}\n",
    "        for i, vertex in enumerate(self.vertices):\n",
    "            angle = 2 * math.pi * i / num_vertices\n",
    "            x = center_x + radius * math.cos(angle)\n",
    "            y = center_y + radius * math.sin(angle)\n",
    "            positions[vertex] = (x, y)\n",
    "\n",
    "        # Determine node size based on the number of vertices\n",
    "        node_size = min(canvas.winfo_width(), canvas.winfo_height()) / 40\n",
    "\n",
    "        # Draw edges\n",
    "        for vertex, neighbors in self.vertices.items():\n",
    "            for neighbor in neighbors:\n",
    "                start_pos = positions[vertex]\n",
    "                end_pos = positions[neighbor]\n",
    "                canvas.create_line(start_pos[0], start_pos[1], end_pos[0], end_pos[1], fill=\"dark gray\", width=2)\n",
    "        \n",
    "        # Draw nodes\n",
    "        for vertex, pos in positions.items():\n",
    "            canvas.create_oval(pos[0] - node_size, pos[1] - node_size, pos[0] + node_size, pos[1] + node_size, fill=\"light gray\", outline=\"dark gray\", width=2)\n",
    "        \n",
    "        root.mainloop()\n",
    "        \n",
    "    def __str__(self):\n",
    "        result = \"\"\n",
    "        for vertex in self.vertices:\n",
    "            result += f\"{vertex}: {self.vertices[vertex]}\\n\"\n",
    "        return result"
   ]
  },
  {
   "cell_type": "code",
   "execution_count": 6,
   "id": "5004c7be-cb57-470a-89b0-6c1a3cbe92c6",
   "metadata": {},
   "outputs": [
    {
     "ename": "NameError",
     "evalue": "name 'tk' is not defined",
     "output_type": "error",
     "traceback": [
      "\u001b[1;31m---------------------------------------------------------------------------\u001b[0m",
      "\u001b[1;31mNameError\u001b[0m                                 Traceback (most recent call last)",
      "Cell \u001b[1;32mIn[6], line 19\u001b[0m\n\u001b[0;32m     16\u001b[0m     graph\u001b[38;5;241m.\u001b[39madd_edge(edge[\u001b[38;5;241m0\u001b[39m], edge[\u001b[38;5;241m1\u001b[39m])\n\u001b[0;32m     18\u001b[0m \u001b[38;5;66;03m# Visualize the graph\u001b[39;00m\n\u001b[1;32m---> 19\u001b[0m graph\u001b[38;5;241m.\u001b[39mvisualize()\n",
      "Cell \u001b[1;32mIn[5], line 14\u001b[0m, in \u001b[0;36mGraph.visualize\u001b[1;34m(self)\u001b[0m\n\u001b[0;32m     13\u001b[0m \u001b[38;5;28;01mdef\u001b[39;00m \u001b[38;5;21mvisualize\u001b[39m(\u001b[38;5;28mself\u001b[39m):\n\u001b[1;32m---> 14\u001b[0m     root \u001b[38;5;241m=\u001b[39m tk\u001b[38;5;241m.\u001b[39mTk()\n\u001b[0;32m     15\u001b[0m     canvas \u001b[38;5;241m=\u001b[39m tk\u001b[38;5;241m.\u001b[39mCanvas(root, width\u001b[38;5;241m=\u001b[39m\u001b[38;5;241m400\u001b[39m, height\u001b[38;5;241m=\u001b[39m\u001b[38;5;241m400\u001b[39m, bg\u001b[38;5;241m=\u001b[39m\u001b[38;5;124m\"\u001b[39m\u001b[38;5;124mwhite\u001b[39m\u001b[38;5;124m\"\u001b[39m)\n\u001b[0;32m     16\u001b[0m     canvas\u001b[38;5;241m.\u001b[39mpack()\n",
      "\u001b[1;31mNameError\u001b[0m: name 'tk' is not defined"
     ]
    }
   ],
   "source": [
    "# Example usage:\n",
    "graph = Graph()\n",
    "\n",
    "# Example list of vertices\n",
    "vertices = nodes\n",
    "\n",
    "# Example list of edges represented as tuples (source, target)\n",
    "edges = edges\n",
    "\n",
    "# Add vertices to the graph\n",
    "for vertex in vertices:\n",
    "    graph.add_vertex(vertex)\n",
    "\n",
    "# Add edges to the graph\n",
    "for edge in edges:\n",
    "    graph.add_edge(edge[0], edge[1])\n",
    "\n",
    "# Visualize the graph\n",
    "graph.visualize()"
   ]
  },
  {
   "cell_type": "code",
   "execution_count": null,
   "id": "39370c07-abf9-452e-8a18-1bb0c1734f3b",
   "metadata": {},
   "outputs": [],
   "source": []
  }
 ],
 "metadata": {
  "kernelspec": {
   "display_name": "Python 3 (ipykernel)",
   "language": "python",
   "name": "python3"
  },
  "language_info": {
   "codemirror_mode": {
    "name": "ipython",
    "version": 3
   },
   "file_extension": ".py",
   "mimetype": "text/x-python",
   "name": "python",
   "nbconvert_exporter": "python",
   "pygments_lexer": "ipython3",
   "version": "3.11.5"
  }
 },
 "nbformat": 4,
 "nbformat_minor": 5
}
